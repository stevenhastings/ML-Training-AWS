{
  "nbformat": 4,
  "nbformat_minor": 0,
  "metadata": {
    "colab": {
      "provenance": [],
      "collapsed_sections": [],
      "authorship_tag": "ABX9TyO7+YCPaqy/wuj4gOQksOgd",
      "include_colab_link": true
    },
    "kernelspec": {
      "name": "python3",
      "display_name": "Python 3"
    },
    "language_info": {
      "name": "python"
    }
  },
  "cells": [
    {
      "cell_type": "markdown",
      "metadata": {
        "id": "view-in-github",
        "colab_type": "text"
      },
      "source": [
        "<a href=\"https://colab.research.google.com/github/stevenhastings/ML-Training-AWS/blob/main/DevOps_Foundations.ipynb\" target=\"_parent\"><img src=\"https://colab.research.google.com/assets/colab-badge.svg\" alt=\"Open In Colab\"/></a>"
      ]
    },
    {
      "cell_type": "markdown",
      "source": [
        "# **DevOps Foundations**"
      ],
      "metadata": {
        "id": "5FkFrlxStd0K"
      }
    },
    {
      "cell_type": "markdown",
      "source": [
        "## **C A M S** \n",
        "\n",
        "### *Culture*\n",
        "\n",
        "### *Automation*\n",
        "\n",
        "### *Measurement*\n",
        "* Measure Key Metrics across the Organization\n",
        " * Mean Time to Recovery\n",
        " * Cycle Time\n",
        " * Costs\n",
        " * Revenue\n",
        " * Employee Satisfaction\n",
        "\n",
        "### *Sharing*\n",
        "* ***Kaizen***\n",
        " * Japanese word for Discrete, Continuous Improvement in a business context. "
      ],
      "metadata": {
        "id": "sFKta9cBsCOl"
      }
    },
    {
      "cell_type": "markdown",
      "source": [
        "## DevOps Principles: The three ways\n",
        "\n",
        "1. *Systems Thinking*:\n",
        " * From Concept to Cash\n",
        " * Overall outcomes\n",
        "2. *Amplifying Feedback Loops*\n",
        " * Takes its own output into consideration\n",
        " * Catch problems as soon as possible\n",
        "3. *Continuous Experimentation*\n",
        " * Working code wins\n",
        " * If it hurts, do it more\n",
        " * Fail fast\n",
        " * Doing over talking and encourage culture of experimentation\n"
      ],
      "metadata": {
        "id": "fL1mJpf4tkKK"
      }
    },
    {
      "cell_type": "markdown",
      "source": [
        "## DevOps Playbook: Methodologies\n",
        "1. First Methodology:\n",
        " * People over Process over Tools\n",
        "2. Second Methodology:\n",
        " * Continuous Delivery\n",
        "3. Third Methodology: \n",
        " * Lean Management\n",
        "4. Fourth Methodology:\n",
        " * Change Control\n",
        " * book: 'visible ops'\n",
        "5. Fifth Methodology:\n",
        " * Infrastructure as Code\n",
        " > - System treated like code\n",
        " > - Checked into source control\n",
        " > - Reviewed, built, and tested\n",
        " > - Managed Programmatically"
      ],
      "metadata": {
        "id": "eIEIEqJfsUee"
      }
    },
    {
      "cell_type": "markdown",
      "source": [
        "## Ten Practices for DevOps Success: 10-6\n",
        "10. Incident Command System \n",
        "9. Developers on Call\n",
        "8. Public Status Pages\n",
        "7. Blameless Postmortems\n",
        "6. Embedded Teams\n"
      ],
      "metadata": {
        "id": "OPOyiNeRycPy"
      }
    },
    {
      "cell_type": "markdown",
      "source": [
        "## Ten Practices for DevOps Success: 5-1\n",
        "5. The Cloud\n",
        "4. Andon Cords\n",
        " * Implemented by Toyota\n",
        " * Bus chord to stop production\n",
        "3. Dependency Injection\n",
        "2. Blue/Green Deployment\n",
        "1. Chaos Monkey\n",
        " * Implemented by Netflix to keep their engineers on their toes"
      ],
      "metadata": {
        "id": "B0Yesbc7yr0_"
      }
    },
    {
      "cell_type": "markdown",
      "source": [
        "## DevOps Tools: The cart or the horse?\n",
        "1. Programmable\n",
        "2. Verifiable\n",
        " * \"Tust but Verify\" -Ronald Reagan\n",
        "3. Well-behaved"
      ],
      "metadata": {
        "id": "8hZUwK9JywPp"
      }
    },
    {
      "cell_type": "markdown",
      "source": [
        "## The IT Crowd and the coming storm\n",
        "\n",
        "* Developers\n",
        " * New Functionality\n",
        " * Making Changes\n",
        " * Moving Fast\n",
        "\n",
        "* Operations\n",
        " * Maintaining Stability\n",
        " * Controlling Change"
      ],
      "metadata": {
        "id": "ct8n5Q1f1F7z"
      }
    },
    {
      "cell_type": "markdown",
      "source": [
        "## Kaizen's Guiding Principles\n",
        "1. Good processes bring good results\n",
        "2. Go see for yourself (gemba)\n",
        "3. Speak with data and manage by facts\n",
        "4. Take action to contain and correct root causes\n",
        "5. Work as a team\n",
        "6. Kaizen is everybody's business"
      ],
      "metadata": {
        "id": "urFttldfyLRZ"
      }
    },
    {
      "cell_type": "markdown",
      "source": [
        "## Infrastructure as Code\n",
        "* Source Control\n",
        "* Testing your Infrastructure\n"
      ],
      "metadata": {
        "id": "vWVcnoAsz0IJ"
      }
    },
    {
      "cell_type": "markdown",
      "source": [
        "## Golden Image to Foil Ball\n",
        "\n",
        "* Provisioning:\n",
        " * The process of making a server ready for operation, including hardware, OS, system services, and network connectivity.\n",
        "* Deployment:\n",
        " * The process of automatically deploying and upgrading applications on a server\n",
        "* Orchestration:\n",
        " * Performing coordinated operations across multiple systems.\n",
        "* Configuration Management:\n",
        " * Management of change control for system configuration after initial provision; maintaining and upgrading the application and its dependencies.\n",
        "* Imperative (Procedural):\n",
        " * Commands necessary to produce a desired state are defined and executed.\n",
        "* Declarative (Functional):\n",
        " * A desired state is defined, relying on the tool to configure a system to match that state. \n",
        "* Idempotent:\n",
        " * The ability to execute repeatedly, resulting in the same outcome\n",
        "* Self-Service:\n",
        " * The ability for an end user to initiate a process without having to go through other people"
      ],
      "metadata": {
        "id": "UeR9vIHzrL24"
      }
    },
    {
      "cell_type": "markdown",
      "source": [
        "## Deployments\n",
        "1. Canary deployments:\n",
        "2. Blue/Green deployments:\n",
        "3. ***Immutable Deployments***:\n"
      ],
      "metadata": {
        "id": "Gy6T7AtV2ZpD"
      }
    },
    {
      "cell_type": "markdown",
      "source": [
        "# Tools"
      ],
      "metadata": {
        "id": "tALX8XHZFPaD"
      }
    },
    {
      "cell_type": "markdown",
      "source": [
        "## Configuration Management\n",
        "\n",
        "* Chef\n",
        " * Rubocop\n",
        " * foodcritic\n",
        " * ChefSpec\n",
        " * KitchenCI\n",
        "\n",
        "* Puppet\n",
        "* Ansible\n",
        "* Salt\n",
        "* CFEngine\n",
        "* Packer\n",
        "\n",
        "## Service Directory\n",
        "* etcd\n",
        "* ZooKeeper\n",
        "* Consul\n",
        "\n",
        "## Container Based Infrastructure\n",
        "* Docker Swarm\n",
        "* Kubernetes\n",
        "* Mesos\n",
        "\n",
        "## Private Container Services\n",
        "* Rancher\n",
        "* Google Cloud Platform\n",
        "* Amazon Elastic Container Service\n",
        "\n"
      ],
      "metadata": {
        "id": "Lh8F6ZZo8W1o"
      }
    },
    {
      "cell_type": "markdown",
      "source": [
        "## Continuous Integration\n",
        "* Automatically building and unit testing the entire application\n",
        "## Continuous Delivery\n",
        "* Deploying every change to a production-like environment, and performing automated integration and acceptance testing\n",
        "## Continuous Deployment\n",
        "* After testing every change, automatically deploying to production"
      ],
      "metadata": {
        "id": "DHoWzczOG0Tf"
      }
    },
    {
      "cell_type": "markdown",
      "source": [
        "## Continuous Delivery Pipeline\n",
        "1. Only build artifacts once\n",
        "2. Artifacts should be immutable\n",
        "3. Staging should be a copy of production\n",
        "4. Stop deploys if a previous step fails\n",
        "5. Deployments should be idempotent \n",
        "\n",
        "#### Questions:\n",
        "* Cycle:\n",
        " * Are you able to audit a single change and trace it through the whole system?\n",
        "* Overall Cycle Time:\n",
        " * How fast can you move that single change into production?"
      ],
      "metadata": {
        "id": "-GXWfJakPwgy"
      }
    },
    {
      "cell_type": "markdown",
      "source": [
        "## **The Role of QA**\n",
        "\n",
        "\n",
        "---\n",
        "\n",
        "\n",
        "#### *Types of Testing*\n",
        "I. Unit Testing\n",
        " 1. Writing a function to validate a piece of the code\n",
        "\n",
        "II. Code Hygiene\n",
        " 1. Linting\n",
        " 2. Code Formatting\n",
        " 3. Banned Functions\n",
        "\n",
        "III. Integration Testing\n",
        " 1. Similar to Unit Testing\n",
        " 2. Technical testing performed with the whole application in a testing environment\n",
        "\n",
        "IV. TDD, BDD, ATDD\n",
        " 1. Test Driven Development\n",
        "  * State desired outcome as a test\n",
        "  * Write code to pass the test\n",
        "  * Repeat\n",
        "\n",
        " 2. Behavior Driven Development\n",
        "  * Work with stakeholders\n",
        "  * Describe business functionality\n",
        "  * Base tests on natural language descriptions\n",
        "\n",
        " 3. Acceptance Test Driven Development\n",
        "  * Scenarios are from the end users' perspective\n",
        "  * Use cases are the basis of automated testing\n",
        "  * Testing is continous during development\n",
        "\n",
        "  > - DEALING WITH SLOW TESTS:\n",
        "  >> - Use nonblocking tests in your pipeline\n",
        "  >> - Use time-scheduled testing (for example, nightly)\n",
        "  >> - Use monitoring to accomplish some test goals\n",
        "\n",
        "V. Infrastructure Testing\n",
        " 1. Staring up a host\n",
        " 2. Running the Configuration Management Code\n",
        " 3. Running all the tests \n",
        " 4. Turning it all off\n",
        "\n",
        "VI. Performance Testing\n",
        " * Dedicated performance testing\n",
        "  1. Load Tests\n",
        "  2. Stress Tests\n",
        "  3. Soak Tests\n",
        "  4. Spike Tests\n",
        "VII. Security Testing\n",
        " 1. **Given**: *I have a website*\n",
        " 2. **When**: *I try to attack it with cross-site scripting*\n",
        " 3. **Then**: *It should not be vulnerable*"
      ],
      "metadata": {
        "id": "gu9hWRenR7D4"
      }
    },
    {
      "cell_type": "markdown",
      "source": [
        "## CI Toolchain\n",
        "1. Version Control\n",
        " * Git\n",
        " * Github\n",
        " * Bitbucket\n",
        "\n",
        "2. Continuous Integration\n",
        " * Jenkins\n",
        " * GoCD\n",
        " * Teamcity\n",
        " * Bamboo\n",
        " * TravisCI\n",
        "\n",
        "3. Build\n",
        " * Make or Rake\n",
        " * Maven\n",
        " * Gulp\n",
        " * Packer\n",
        "\n",
        "4a. Unit Testing\n",
        " * JUnit\n",
        " * Golint\n",
        " * Gofmt\n",
        " * RuboCop\n",
        "\n",
        "4b. Integration Testing\n",
        " * Robot\n",
        " * Protractor\n",
        " * Cucumber\n",
        " * Sauce Labs\n",
        "\n",
        "5. Artifact Repository\n",
        " * Artifactory\n",
        " * Nexus\n",
        " * Docker Hub\n",
        "\n",
        "6. Deployment\n",
        " * Rundeck\n",
        " * UrbanCode\n",
        " * ThoughtWorks\n",
        " * Deployinator (Etsy?)\n"
      ],
      "metadata": {
        "id": "W6vIzxD7Wa-n"
      }
    },
    {
      "cell_type": "markdown",
      "source": [
        "## Engineering Doesn't End with Deployment\n",
        "* Reliability\n",
        " * The ability of a system or component to function under stated conditions for a specified period of time\n",
        "* Mean Time to Recovery (MTTR)\n",
        " * How quickly a service can recover from a disruption and restore service\n",
        "* Mean Time Between Failures (MTBF)\n",
        " * The average time between service disruptions"
      ],
      "metadata": {
        "id": "AEqGkMXdfsNq"
      }
    },
    {
      "cell_type": "markdown",
      "source": [],
      "metadata": {
        "id": "PHlaas2fWXUh"
      }
    }
  ]
}